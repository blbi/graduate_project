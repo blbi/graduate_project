{
 "cells": [
  {
   "cell_type": "code",
   "execution_count": 1,
   "metadata": {},
   "outputs": [
    {
     "name": "stderr",
     "output_type": "stream",
     "text": [
      "/home/hope/anaconda/lib/python3.6/site-packages/sklearn/cross_validation.py:41: DeprecationWarning: This module was deprecated in version 0.18 in favor of the model_selection module into which all the refactored classes and functions are moved. Also note that the interface of the new CV iterators are different from that of this module. This module will be removed in 0.20.\n",
      "  \"This module will be removed in 0.20.\", DeprecationWarning)\n"
     ]
    }
   ],
   "source": [
    "#library import\n",
    "\n",
    "from os.path import join\n",
    "import math\n",
    "from math import sqrt\n",
    "import pandas as pd\n",
    "import numpy as np\n",
    "import sklearn\n",
    "import scipy.stats\n",
    "from scipy.sparse.linalg import svds\n",
    "from sklearn.cross_validation import train_test_split\n",
    "import operator\n",
    "import time"
   ]
  },
  {
   "cell_type": "code",
   "execution_count": 2,
   "metadata": {},
   "outputs": [],
   "source": [
    "#read data path\n",
    "BASE_PATH = \"/media/sf_졸프\"\n",
    "FILE_NAME = \"userData.txt\"\n",
    "\n",
    "watchHistory = pd.read_csv(join(BASE_PATH, FILE_NAME), sep=\"\\t\")\n",
    "watchMatrix = pd.crosstab(watchHistory.VIDEO_NUM, watchHistory.USER_NUM).replace(0, np.nan)\n",
    "\n",
    "#read data the first process\n",
    "N_USERS = watchHistory.USER_NUM.unique().shape[0]\n",
    "N_ITEMS = watchHistory.VIDEO_NUM.unique().shape[0]\n",
    "\n",
    "history = np.zeros((N_USERS, N_ITEMS))\n",
    "\n",
    "\"\"\"weight to each user**\"\"\"\n",
    "#if user watch video, mark 1\n",
    "for row in watchHistory.itertuples():\n",
    "    history[row[1]-1, row[2]-1] = row[3]\n",
    "\n",
    "#don't need\n",
    "history_train, history_test = train_test_split(history, test_size = 0.33, random_state=42)\n",
    "\n",
    "#predict user_i's rating if they didn't watch item."
   ]
  },
  {
   "cell_type": "code",
   "execution_count": 3,
   "metadata": {},
   "outputs": [
    {
     "name": "stdout",
     "output_type": "stream",
     "text": [
      "time of prediction by SVD : 0.14578747749328613\n",
      "\n",
      "575\n",
      "575.0\n",
      "23.979157616563597\n",
      "0.04170288281141495\n"
     ]
    }
   ],
   "source": [
    "#singular vector decomposition\n",
    "user_ratings_mean = np.zeros(N_USERS)\n",
    "\n",
    "start = time.time()\n",
    "demeaned_history = np.zeros((N_USERS, N_ITEMS))\n",
    "for i in range(N_USERS) :\n",
    "    sum = 0\n",
    "    count = 0\n",
    "    for j in range(N_ITEMS) :\n",
    "        if(history[i][j] != 0) :\n",
    "            sum += history[i][j]\n",
    "            count += 1\n",
    "    user_ratings_mean[i] = float(sum / float(count))\n",
    "    for k in range(N_ITEMS) :\n",
    "        if(history[i][k] != 0) :\n",
    "            demeaned_history[i][k] = history[i][k] - user_ratings_mean[i]\n",
    "        else :\n",
    "            demeaned_history[i][k] = history[i][k]\n",
    "    \n",
    "U, sigma, Vt = svds(demeaned_history, k=1)\n",
    "sigma = np.diag(sigma)\n",
    "for i in range(len(sigma)) :\n",
    "    sigma[i][i] = math.sqrt(sigma[i][i])\n",
    "\n",
    "predict_ratings = np.dot(np.dot(U, sigma), Vt) + user_ratings_mean.reshape(-1,1)\n",
    "\n",
    "print(\"time of prediction by SVD : \" + str(time.time() - start) + \"\\n\")\n",
    "\n",
    "predict_count = 0\n",
    "squared_error = 0\n",
    "\n",
    "#calculate rmse\n",
    "for i in range(N_USERS):\n",
    "    for j in range(N_ITEMS):\n",
    "        if(history[i][j] == 0) :\n",
    "            predict_count += 1\n",
    "            squared_error += (predict_ratings[i][j] - history[i][j])**2\n",
    "\n",
    "frobenius_norm = math.sqrt(squared_error)\n",
    "rmse = float(frobenius_norm / float(predict_count))\n",
    "print(predict_count) \n",
    "print(squared_error) \n",
    "print(frobenius_norm)\n",
    "print(rmse)\n"
   ]
  },
  {
   "cell_type": "code",
   "execution_count": 4,
   "metadata": {},
   "outputs": [],
   "source": [
    "#recommend top-k video for each user"
   ]
  },
  {
   "cell_type": "code",
   "execution_count": null,
   "metadata": {},
   "outputs": [],
   "source": []
  }
 ],
 "metadata": {
  "kernelspec": {
   "display_name": "Python 3",
   "language": "python",
   "name": "python3"
  },
  "language_info": {
   "codemirror_mode": {
    "name": "ipython",
    "version": 3
   },
   "file_extension": ".py",
   "mimetype": "text/x-python",
   "name": "python",
   "nbconvert_exporter": "python",
   "pygments_lexer": "ipython3",
   "version": "3.6.3"
  }
 },
 "nbformat": 4,
 "nbformat_minor": 2
}
